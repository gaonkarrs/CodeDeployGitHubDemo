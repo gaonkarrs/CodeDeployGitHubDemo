{
  "nbformat": 4,
  "nbformat_minor": 0,
  "metadata": {
    "colab": {
      "name": "Basics.ipynb",
      "provenance": [],
      "collapsed_sections": [],
      "mount_file_id": "1AOURaSXHrJMXlw_qawTMP3WkOaK1D6Gv",
      "authorship_tag": "ABX9TyO2qEkhPC1wNfEwBoU9B5wB",
      "include_colab_link": true
    },
    "kernelspec": {
      "name": "python3",
      "display_name": "Python 3"
    },
    "language_info": {
      "name": "python"
    }
  },
  "cells": [
    {
      "cell_type": "markdown",
      "metadata": {
        "id": "view-in-github",
        "colab_type": "text"
      },
      "source": [
        "<a href=\"https://colab.research.google.com/github/gaonkarrs/CodeDeployGitHubDemo/blob/master/Basics.ipynb\" target=\"_parent\"><img src=\"https://colab.research.google.com/assets/colab-badge.svg\" alt=\"Open In Colab\"/></a>"
      ]
    },
    {
      "cell_type": "code",
      "execution_count": null,
      "metadata": {
        "colab": {
          "base_uri": "https://localhost:8080/"
        },
        "id": "l7wPMBpZ71br",
        "outputId": "a3a12839-0fb2-41a1-f1e0-9f8763cbd7ed"
      },
      "outputs": [
        {
          "output_type": "stream",
          "name": "stdout",
          "text": [
            "Enter your name: hi\n",
            "hello hi\n"
          ]
        }
      ],
      "source": [
        "# Python program to illustrate\n",
        "# getting input from user\n",
        "name = input(\"Enter your name: \")\n",
        "\n",
        "# user entered the name 'harssh'\n",
        "print(\"hello\", name)\n"
      ]
    },
    {
      "cell_type": "code",
      "source": [
        ""
      ],
      "metadata": {
        "id": "P8Dvw5VN_QF-"
      },
      "execution_count": null,
      "outputs": []
    },
    {
      "cell_type": "code",
      "source": [
        "print(\"hi\")"
      ],
      "metadata": {
        "colab": {
          "base_uri": "https://localhost:8080/"
        },
        "id": "UHF4eFD9-g6M",
        "outputId": "f70ca9ed-7926-462a-e91f-210ebee4b7ed"
      },
      "execution_count": null,
      "outputs": [
        {
          "output_type": "stream",
          "name": "stdout",
          "text": [
            "hi\n"
          ]
        }
      ]
    },
    {
      "cell_type": "code",
      "source": [
        "num=int(input(\"Enter num1: \"));\n",
        "num1=int(input('Enter num2: '));\n",
        "\n",
        "print(\"product\", num*num1)"
      ],
      "metadata": {
        "colab": {
          "base_uri": "https://localhost:8080/"
        },
        "id": "biS8DnWJCpLi",
        "outputId": "732d85f5-7886-456d-ade9-f38470f6897b"
      },
      "execution_count": null,
      "outputs": [
        {
          "output_type": "stream",
          "name": "stdout",
          "text": [
            "Enter num1: 12\n",
            "Enter num2: 43\n",
            "product 516\n"
          ]
        }
      ]
    },
    {
      "cell_type": "code",
      "source": [
        ""
      ],
      "metadata": {
        "id": "iUFQJg2fFpoQ"
      },
      "execution_count": null,
      "outputs": []
    },
    {
      "cell_type": "code",
      "source": [
        "num=int(input(\"Enter NUmber\"));\n",
        "\n",
        "if(num<40):\n",
        "  print(\"pass\");\n",
        "elif(num<70):\n",
        "  print(\"Good\");\n",
        "else:\n",
        "  print(\"Excellent\");\n"
      ],
      "metadata": {
        "colab": {
          "base_uri": "https://localhost:8080/"
        },
        "id": "uJetN_4xEOd9",
        "outputId": "9ad09f22-62fb-4d3a-b723-db17b7046cc2"
      },
      "execution_count": null,
      "outputs": [
        {
          "output_type": "stream",
          "name": "stdout",
          "text": [
            "Enter NUmber-10\n",
            "pass\n"
          ]
        }
      ]
    },
    {
      "cell_type": "code",
      "source": [
        "def hello():\n",
        "  print(\"Hello, Welcome\")\n",
        "  print(\"Hello Again\")\n",
        "\n",
        "hello()\n",
        "\n",
        "def getNum():\n",
        "  num=int(input(\"Enter No:\"))\n",
        "  return num * 10; \n",
        "\n",
        "def makeArray():\n",
        "    row=int(input(\"Enter No of Rows\"))\n",
        "    col=int(input(\"Enter no of Cols\"))\n",
        "    array=[[0]*col]*row\n",
        "    return array\n",
        "\n",
        "def main():\n",
        "  print(getNum())\n",
        "  print(makeArray())\n",
        "\n",
        "if __name__==\"__main__\":\n",
        "  main()"
      ],
      "metadata": {
        "colab": {
          "base_uri": "https://localhost:8080/"
        },
        "id": "8eM_Ei1ZFsqi",
        "outputId": "3d71d36c-33f7-4069-dbc4-0e0c906e61f0"
      },
      "execution_count": null,
      "outputs": [
        {
          "output_type": "stream",
          "name": "stdout",
          "text": [
            "Hello, Welcome\n",
            "Hello Again\n",
            "Enter No:2\n",
            "20\n",
            "Enter No of Rows3\n",
            "Enter no of Cols2\n",
            "[[0, 0], [0, 0], [0, 0]]\n"
          ]
        }
      ]
    },
    {
      "cell_type": "code",
      "source": [
        "#row=int(input(\"Enter row:  \"))\n",
        "#col=int(input(\"Enter col:  \"))\n",
        "row=3\n",
        "col=3\n",
        "array1=[[0]*col]*row\n",
        "array2=[[0 for i in range(row)] for i in range(col)]\n",
        "print(array1,array2)\n",
        "temp=0\n",
        "\n",
        "#for j in [1,2,3]:\n",
        "#    for k in [1,2,3]:\n",
        "#        array1[j-1][k-1]= k + j;    \n",
        "\n",
        "i=0\n",
        "j=0\n",
        "temp=0\n",
        "while(i<3):\n",
        "  j=0;\n",
        "  while(j<3):\n",
        "    print(i,j)\n",
        "    array2[i][j]=temp;\n",
        "    temp=temp + 1\n",
        "    j=j+1\n",
        "  i=i+1\n",
        "\n",
        "print(array2)"
      ],
      "metadata": {
        "colab": {
          "base_uri": "https://localhost:8080/"
        },
        "id": "LMhjAYb7J5WN",
        "outputId": "973c710b-e5da-409e-8a7a-e4bd61ae6f7e"
      },
      "execution_count": null,
      "outputs": [
        {
          "output_type": "stream",
          "name": "stdout",
          "text": [
            "[[0, 0, 0], [0, 0, 0], [0, 0, 0]] [[0, 0, 0], [0, 0, 0], [0, 0, 0]]\n",
            "0 0\n",
            "0 1\n",
            "0 2\n",
            "1 0\n",
            "1 1\n",
            "1 2\n",
            "2 0\n",
            "2 1\n",
            "2 2\n",
            "[[0, 1, 2], [3, 4, 5], [6, 7, 8]]\n"
          ]
        }
      ]
    },
    {
      "cell_type": "code",
      "source": [
        ""
      ],
      "metadata": {
        "id": "SlSOFylH75Bx"
      },
      "execution_count": null,
      "outputs": []
    },
    {
      "cell_type": "code",
      "source": [
        "# importing the multiprocessing module\n",
        "import multiprocessing\n",
        "import os\n",
        "\n",
        "def worker1():\n",
        "\t# printing process id\n",
        "\tprint(\"ID of process running worker1: {}\".format(os.getpid()))\n",
        "\n",
        "def worker2():\n",
        "\t# printing process id\n",
        "\tprint(\"ID of process running worker2: {}\".format(os.getpid()))\n",
        "\n",
        "if __name__ == \"__main__\":\n",
        "\t# printing main program process id\n",
        "\tprint(\"ID of main process: {}\".format(os.getpid()))\n",
        "\n",
        "\t# creating processes\n",
        "\tp1 = multiprocessing.Process(target=worker1)\n",
        "\tp2 = multiprocessing.Process(target=worker2)\n",
        "\n",
        "\t# starting processes\n",
        "\tp1.start()\n",
        "\tp2.start()\n",
        "\n",
        "\t# process IDs\n",
        "\tprint(\"ID of process p1: {}\".format(p1.pid))\n",
        "\tprint(\"ID of process p2: {}\".format(p2.pid))\n",
        "\n",
        "\t# wait until processes are finished\n",
        "\tp1.join()\n",
        "\tp2.join()\n",
        "\n",
        "\t# both processes finished\n",
        "\tprint(\"Both processes finished execution!\")\n",
        "\n",
        "\t# check if processes are alive\n",
        "\tprint(\"Process p1 is alive: {}\".format(p1.is_alive()))\n",
        "\tprint(\"Process p2 is alive: {}\".format(p2.is_alive()))\n"
      ],
      "metadata": {
        "colab": {
          "base_uri": "https://localhost:8080/"
        },
        "id": "GJQAai3rvOm6",
        "outputId": "91dce4c0-ca88-4e12-b13a-4187cc167aab"
      },
      "execution_count": null,
      "outputs": [
        {
          "output_type": "stream",
          "name": "stdout",
          "text": [
            "ID of main process: 58\n",
            "ID of process running worker1: 695\n",
            "ID of process running worker2: 698\n",
            "ID of process p1: 695\n",
            "ID of process p2: 698\n",
            "Both processes finished execution!\n",
            "Process p1 is alive: False\n",
            "Process p2 is alive: False\n"
          ]
        }
      ]
    },
    {
      "cell_type": "code",
      "source": [
        "for i in range(5):\n",
        "  print(i)\n",
        "\n",
        "print(range(5))"
      ],
      "metadata": {
        "colab": {
          "base_uri": "https://localhost:8080/"
        },
        "id": "ESV6vinexPUM",
        "outputId": "4a8129cd-6134-497a-d1a9-def4cfd9bd6a"
      },
      "execution_count": null,
      "outputs": [
        {
          "output_type": "stream",
          "name": "stdout",
          "text": [
            "0\n",
            "1\n",
            "2\n",
            "3\n",
            "4\n",
            "range(0, 5)\n"
          ]
        }
      ]
    },
    {
      "cell_type": "code",
      "source": [
        "import math\n",
        "\n",
        "num=int(input('Enter no'))\n",
        "\n",
        "print(math.fabs(num))\n",
        "print(math.factorial(num))"
      ],
      "metadata": {
        "colab": {
          "base_uri": "https://localhost:8080/"
        },
        "id": "GB5Lhn7nrqmL",
        "outputId": "cf63e999-8b1a-4ace-bc18-93b576755afa"
      },
      "execution_count": null,
      "outputs": [
        {
          "output_type": "stream",
          "name": "stdout",
          "text": [
            "Enter no6\n",
            "6.0\n",
            "720\n"
          ]
        }
      ]
    },
    {
      "cell_type": "code",
      "source": [
        "# Python code to demonstrate working of iskeyword()\n",
        "\n",
        "# importing \"keyword\" for keyword operations\n",
        "import keyword\n",
        "\n",
        "# printing all keywords at once using \"kwlist()\"\n",
        "print(\"The list of keywords is : \")\n",
        "print(keyword.kwlist)\n",
        "print(keyword.iskeyword('elif'))\n",
        "\n",
        "print(False == 0)\n",
        "print(True == 1)\n",
        "\n",
        "print(True + True + True)\n",
        "print(True + False + False)\n",
        "\n",
        "print(None == 0)\n",
        "print(None == None)\n",
        "\n"
      ],
      "metadata": {
        "colab": {
          "base_uri": "https://localhost:8080/"
        },
        "id": "wqoSe_R_77Lv",
        "outputId": "64116214-c07a-4fc3-c81f-81b9945d69f6"
      },
      "execution_count": null,
      "outputs": [
        {
          "output_type": "stream",
          "name": "stdout",
          "text": [
            "The list of keywords is : \n",
            "['False', 'None', 'True', 'and', 'as', 'assert', 'async', 'await', 'break', 'class', 'continue', 'def', 'del', 'elif', 'else', 'except', 'finally', 'for', 'from', 'global', 'if', 'import', 'in', 'is', 'lambda', 'nonlocal', 'not', 'or', 'pass', 'raise', 'return', 'try', 'while', 'with', 'yield']\n",
            "True\n",
            "True\n",
            "True\n",
            "3\n",
            "1\n",
            "False\n",
            "True\n"
          ]
        }
      ]
    },
    {
      "cell_type": "code",
      "source": [
        "print(True or False)\n",
        "print(3 or 0)\n",
        "print(0 or 3)\n",
        "print(3 and 0)\n",
        "print(0 and 3)\n",
        "print(3 and 10)\n",
        "print(10 and 3)"
      ],
      "metadata": {
        "colab": {
          "base_uri": "https://localhost:8080/"
        },
        "id": "HuSeBsRY8tvN",
        "outputId": "d9fe999c-1a5b-4180-8b2a-63f12d405ff8"
      },
      "execution_count": null,
      "outputs": [
        {
          "output_type": "stream",
          "name": "stdout",
          "text": [
            "True\n",
            "3\n",
            "3\n",
            "0\n",
            "0\n",
            "10\n",
            "3\n"
          ]
        }
      ]
    },
    {
      "cell_type": "code",
      "source": [
        "if 's' in 'Sha':\n",
        "  print(\"Found\");\n",
        "else:\n",
        "  print(\"Not found\");\n",
        "\n",
        "for i in \"Rajendra\":\n",
        "  print(i, end=\"*\")\n",
        "  #print(i,sep=\"|\")"
      ],
      "metadata": {
        "colab": {
          "base_uri": "https://localhost:8080/"
        },
        "id": "Of018dbC92ux",
        "outputId": "2766b504-fecd-42c8-bd40-53dcd35698df"
      },
      "execution_count": null,
      "outputs": [
        {
          "output_type": "stream",
          "name": "stdout",
          "text": [
            "Not found\n",
            "R*a*j*e*n*d*r*a*"
          ]
        }
      ]
    },
    {
      "cell_type": "code",
      "source": [
        "import array as arr\n",
        "ar=arr.array('i',[1,2,3,6,4,3])\n",
        "\n",
        "#list1=[1,2,3,6,4,3]\n",
        "#list1.sort();\n",
        "\n",
        "#print(list1)\n",
        "\n",
        "### Linear search #### \n",
        "def find_card(arr,card_no):\n",
        "  pos=0\n",
        "  if(len(arr)==0):\n",
        "    return -1;\n",
        " \n",
        "  while(pos<len(arr)):\n",
        "    #print(pos)\n",
        "    if(arr[pos]==card_no):\n",
        "      return pos;\n",
        "    pos+=1;\n",
        "  if(pos==len(arr)):\n",
        "    return -1;\n",
        "\n",
        "def find_card_bs(arr,card):\n",
        "  i=0; #start position\n",
        "  j=len(arr) - 1; #end position\n",
        "  pos=0;\n",
        "\n",
        "  while(i<j):\n",
        "    pos=(i+j)/2;\n",
        "    if(arr[pos]==card):\n",
        "      return pos;\n",
        "    if(arr[pos]<card):\n",
        "      i=pos;\n",
        "    else:\n",
        "      j=pos;\n",
        "  \n",
        "  if(i==j):\n",
        "    return -1;\n",
        "    \n",
        "\n",
        "#find_card([1,2,3,6,4,3,10,12,4,3],10)\n",
        "find_card_bs([1,2,3,4,5],4)"
      ],
      "metadata": {
        "colab": {
          "base_uri": "https://localhost:8080/",
          "height": 322
        },
        "id": "p0k2S4ADwH72",
        "outputId": "8e5ee14c-adb6-4d6a-8c09-a05875a510b6"
      },
      "execution_count": null,
      "outputs": [
        {
          "output_type": "error",
          "ename": "TypeError",
          "evalue": "ignored",
          "traceback": [
            "\u001b[0;31m---------------------------------------------------------------------------\u001b[0m",
            "\u001b[0;31mTypeError\u001b[0m                                 Traceback (most recent call last)",
            "\u001b[0;32m<ipython-input-15-16448930969e>\u001b[0m in \u001b[0;36m<module>\u001b[0;34m()\u001b[0m\n\u001b[1;32m     40\u001b[0m \u001b[0;34m\u001b[0m\u001b[0m\n\u001b[1;32m     41\u001b[0m \u001b[0;31m#find_card([1,2,3,6,4,3,10,12,4,3],10)\u001b[0m\u001b[0;34m\u001b[0m\u001b[0;34m\u001b[0m\u001b[0;34m\u001b[0m\u001b[0m\n\u001b[0;32m---> 42\u001b[0;31m \u001b[0mfind_card_bs\u001b[0m\u001b[0;34m(\u001b[0m\u001b[0;34m[\u001b[0m\u001b[0;36m1\u001b[0m\u001b[0;34m,\u001b[0m\u001b[0;36m2\u001b[0m\u001b[0;34m,\u001b[0m\u001b[0;36m3\u001b[0m\u001b[0;34m,\u001b[0m\u001b[0;36m4\u001b[0m\u001b[0;34m,\u001b[0m\u001b[0;36m5\u001b[0m\u001b[0;34m]\u001b[0m\u001b[0;34m,\u001b[0m\u001b[0;36m4\u001b[0m\u001b[0;34m)\u001b[0m\u001b[0;34m\u001b[0m\u001b[0;34m\u001b[0m\u001b[0m\n\u001b[0m",
            "\u001b[0;32m<ipython-input-15-16448930969e>\u001b[0m in \u001b[0;36mfind_card_bs\u001b[0;34m(arr, card)\u001b[0m\n\u001b[1;32m     28\u001b[0m   \u001b[0;32mwhile\u001b[0m\u001b[0;34m(\u001b[0m\u001b[0mi\u001b[0m\u001b[0;34m<\u001b[0m\u001b[0mj\u001b[0m\u001b[0;34m)\u001b[0m\u001b[0;34m:\u001b[0m\u001b[0;34m\u001b[0m\u001b[0;34m\u001b[0m\u001b[0m\n\u001b[1;32m     29\u001b[0m     \u001b[0mpos\u001b[0m\u001b[0;34m=\u001b[0m\u001b[0;34m(\u001b[0m\u001b[0mi\u001b[0m\u001b[0;34m+\u001b[0m\u001b[0mj\u001b[0m\u001b[0;34m)\u001b[0m\u001b[0;34m/\u001b[0m\u001b[0;36m2\u001b[0m\u001b[0;34m;\u001b[0m\u001b[0;34m\u001b[0m\u001b[0;34m\u001b[0m\u001b[0m\n\u001b[0;32m---> 30\u001b[0;31m     \u001b[0;32mif\u001b[0m\u001b[0;34m(\u001b[0m\u001b[0marr\u001b[0m\u001b[0;34m[\u001b[0m\u001b[0mpos\u001b[0m\u001b[0;34m]\u001b[0m\u001b[0;34m==\u001b[0m\u001b[0mcard\u001b[0m\u001b[0;34m)\u001b[0m\u001b[0;34m:\u001b[0m\u001b[0;34m\u001b[0m\u001b[0;34m\u001b[0m\u001b[0m\n\u001b[0m\u001b[1;32m     31\u001b[0m       \u001b[0;32mreturn\u001b[0m \u001b[0mpos\u001b[0m\u001b[0;34m;\u001b[0m\u001b[0;34m\u001b[0m\u001b[0;34m\u001b[0m\u001b[0m\n\u001b[1;32m     32\u001b[0m     \u001b[0;32mif\u001b[0m\u001b[0;34m(\u001b[0m\u001b[0marr\u001b[0m\u001b[0;34m[\u001b[0m\u001b[0mpos\u001b[0m\u001b[0;34m]\u001b[0m\u001b[0;34m<\u001b[0m\u001b[0mcard\u001b[0m\u001b[0;34m)\u001b[0m\u001b[0;34m:\u001b[0m\u001b[0;34m\u001b[0m\u001b[0;34m\u001b[0m\u001b[0m\n",
            "\u001b[0;31mTypeError\u001b[0m: list indices must be integers or slices, not float"
          ]
        }
      ]
    }
  ]
}