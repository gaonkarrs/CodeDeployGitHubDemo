{
  "nbformat": 4,
  "nbformat_minor": 0,
  "metadata": {
    "colab": {
      "name": "Basics.ipynb",
      "provenance": [],
      "collapsed_sections": [],
      "mount_file_id": "1AOURaSXHrJMXlw_qawTMP3WkOaK1D6Gv",
      "authorship_tag": "ABX9TyMlVjU84bdnwhl1rj8tznsg",
      "include_colab_link": true
    },
    "kernelspec": {
      "name": "python3",
      "display_name": "Python 3"
    },
    "language_info": {
      "name": "python"
    }
  },
  "cells": [
    {
      "cell_type": "markdown",
      "metadata": {
        "id": "view-in-github",
        "colab_type": "text"
      },
      "source": [
        "<a href=\"https://colab.research.google.com/github/gaonkarrs/CodeDeployGitHubDemo/blob/master/Basics.ipynb\" target=\"_parent\"><img src=\"https://colab.research.google.com/assets/colab-badge.svg\" alt=\"Open In Colab\"/></a>"
      ]
    },
    {
      "cell_type": "code",
      "execution_count": null,
      "metadata": {
        "colab": {
          "base_uri": "https://localhost:8080/"
        },
        "id": "l7wPMBpZ71br",
        "outputId": "a3a12839-0fb2-41a1-f1e0-9f8763cbd7ed"
      },
      "outputs": [
        {
          "output_type": "stream",
          "name": "stdout",
          "text": [
            "Enter your name: hi\n",
            "hello hi\n"
          ]
        }
      ],
      "source": [
        "# Python program to illustrate\n",
        "# getting input from user\n",
        "name = input(\"Enter your name: \")\n",
        "\n",
        "# user entered the name 'harssh'\n",
        "print(\"hello\", name)\n"
      ]
    },
    {
      "cell_type": "code",
      "source": [
        ""
      ],
      "metadata": {
        "id": "P8Dvw5VN_QF-"
      },
      "execution_count": null,
      "outputs": []
    },
    {
      "cell_type": "code",
      "source": [
        "print(\"hi\")"
      ],
      "metadata": {
        "colab": {
          "base_uri": "https://localhost:8080/"
        },
        "id": "UHF4eFD9-g6M",
        "outputId": "f70ca9ed-7926-462a-e91f-210ebee4b7ed"
      },
      "execution_count": null,
      "outputs": [
        {
          "output_type": "stream",
          "name": "stdout",
          "text": [
            "hi\n"
          ]
        }
      ]
    },
    {
      "cell_type": "code",
      "source": [
        "num=int(input(\"Enter num1: \"));\n",
        "num1=int(input('Enter num2: '));\n",
        "\n",
        "print(\"product\", num*num1)"
      ],
      "metadata": {
        "colab": {
          "base_uri": "https://localhost:8080/"
        },
        "id": "biS8DnWJCpLi",
        "outputId": "732d85f5-7886-456d-ade9-f38470f6897b"
      },
      "execution_count": 14,
      "outputs": [
        {
          "output_type": "stream",
          "name": "stdout",
          "text": [
            "Enter num1: 12\n",
            "Enter num2: 43\n",
            "product 516\n"
          ]
        }
      ]
    },
    {
      "cell_type": "code",
      "source": [
        "num=int(input(\"Enter NUmber\"));\n",
        "\n",
        "if(num<40):\n",
        "  print(\"pass\");\n",
        "elif(num<70):\n",
        "  print(\"Good\");\n",
        "else:\n",
        "  print(\"Excellent\");\n"
      ],
      "metadata": {
        "colab": {
          "base_uri": "https://localhost:8080/"
        },
        "id": "uJetN_4xEOd9",
        "outputId": "9ad09f22-62fb-4d3a-b723-db17b7046cc2"
      },
      "execution_count": 17,
      "outputs": [
        {
          "output_type": "stream",
          "name": "stdout",
          "text": [
            "Enter NUmber-10\n",
            "pass\n"
          ]
        }
      ]
    }
  ]
}